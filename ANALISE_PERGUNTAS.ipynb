{
 "cells": [
  {
   "cell_type": "code",
   "execution_count": 31,
   "metadata": {},
   "outputs": [],
   "source": [
    "import pandas as pd\n",
    "import numpy as np\n",
    "import matplotlib.pyplot as plt\n",
    "import matplotlib.ticker as ticker\n",
    "import cor_funcoes\n",
    "import matplotlib.pyplot as plt\n",
    "import seaborn as sns\n",
    "from scipy import stats"
   ]
  },
  {
   "cell_type": "code",
   "execution_count": 3,
   "metadata": {},
   "outputs": [],
   "source": [
    "file_path = './PEDE_PASSOS_DATASET_FIAP.csv'\n",
    "pd.set_option('display.max_columns', None)\n",
    "df = pd.read_csv(file_path, delimiter=';')"
   ]
  },
  {
   "cell_type": "code",
   "execution_count": 19,
   "metadata": {},
   "outputs": [],
   "source": [
    "filters = ['2020', '2021', '2022']\n",
    "filtered_dataframes = filter_columns_multiple(df, filters)\n",
    "\n",
    "\n",
    "df_2020 = filtered_dataframes['2020']\n",
    "df_2021 = filtered_dataframes['2021']\n",
    "df_2022 = filtered_dataframes['2022']"
   ]
  },
  {
   "cell_type": "code",
   "execution_count": 28,
   "metadata": {},
   "outputs": [
    {
     "name": "stdout",
     "output_type": "stream",
     "text": [
      "2020: {'IDA_2020', 'PONTO_VIRADA_2020', 'ANOS_PM_2020', 'DESTAQUE_IPV_2020', 'IPP_2020', 'INSTITUICAO_ENSINO_ALUNO_2020', 'IAA_2020', 'INDE_CONCEITO_2020', 'DESTAQUE_IEG_2020', 'IEG_2020', 'PEDRA_2020', 'INDE_2020', 'IDADE_ALUNO_2020', 'DESTAQUE_IDA_2020', 'IPV_2020', 'IPS_2020', 'IAN_2020', 'FASE_TURMA_2020'}\n",
      "2021: {'SINALIZADOR_INGRESSANTE_2021', 'IEG_2021', 'REC_EQUIPE_1_2021', 'IDA_2021', 'IAA_2021', 'IPP_2021', 'NIVEL_IDEAL_2021', 'DEFASAGEM_2021', 'IPV_2021', 'IAN_2021', 'FASE_2021', 'INDE_2021', 'REC_EQUIPE_4_2021', 'PEDRA_2021', 'PONTO_VIRADA_2021', 'REC_EQUIPE_2_2021', 'INSTITUICAO_ENSINO_ALUNO_2021', 'REC_EQUIPE_3_2021', 'TURMA_2021', 'IPS_2021'}\n",
      "2022: {'NOTA_PORT_2022', 'PEDRA_2022', 'REC_AVA_2_2022', 'IPS_2022', 'REC_AVA_3_2022', 'REC_AVA_4_2022', 'IEG_2022', 'NOTA_MAT_2022', 'TURMA_2022', 'DESTAQUE_IEG_2022', 'IPV_2022', 'NIVEL_IDEAL_2022', 'INDICADO_BOLSA_2022', 'REC_AVA_1_2022', 'NOTA_ING_2022', 'FASE_2022', 'QTD_AVAL_2022', 'BOLSISTA_2022', 'PONTO_VIRADA_2022', 'DESTAQUE_IPV_2022', 'DESTAQUE_IDA_2022', 'INDE_2022', 'IDA_2022', 'CG_2022', 'CT_2022', 'IAN_2022', 'IAA_2022', 'CF_2022', 'ANO_INGRESSO_2022', 'IPP_2022'}\n"
     ]
    }
   ],
   "source": [
    "colunas_2020 = set(df_2020.columns)\n",
    "colunas_2021 = set(df_2021.columns)\n",
    "colunas_2022 = set(df_2022.columns)\n",
    "\n",
    "print(f'2020: {colunas_2020}')\n",
    "print(f'2021: {colunas_2021}')\n",
    "print(f'2022: {colunas_2022}')"
   ]
  },
  {
   "cell_type": "markdown",
   "metadata": {},
   "source": [
    "*Análise de alunos (*de forma individual? 🤔*) ao longo dos anos (*Ex: temos dados do 'ALUNO 1' em 2020 e 2021, já em 2022 não temos dados... Seria talvez desistência?*)"
   ]
  },
  {
   "cell_type": "code",
   "execution_count": null,
   "metadata": {},
   "outputs": [],
   "source": []
  },
  {
   "cell_type": "code",
   "execution_count": null,
   "metadata": {},
   "outputs": [],
   "source": []
  },
  {
   "cell_type": "code",
   "execution_count": null,
   "metadata": {},
   "outputs": [],
   "source": []
  },
  {
   "cell_type": "code",
   "execution_count": null,
   "metadata": {},
   "outputs": [],
   "source": []
  }
 ],
 "metadata": {
  "kernelspec": {
   "display_name": "Python 3",
   "language": "python",
   "name": "python3"
  },
  "language_info": {
   "codemirror_mode": {
    "name": "ipython",
    "version": 3
   },
   "file_extension": ".py",
   "mimetype": "text/x-python",
   "name": "python",
   "nbconvert_exporter": "python",
   "pygments_lexer": "ipython3",
   "version": "3.11.2"
  }
 },
 "nbformat": 4,
 "nbformat_minor": 2
}
